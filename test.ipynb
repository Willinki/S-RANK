{
 "cells": [
  {
   "cell_type": "code",
   "execution_count": 2,
   "metadata": {
    "tags": []
   },
   "outputs": [
    {
     "output_type": "stream",
     "name": "stdout",
     "text": "SAMPLE:  0\n\t features: \n\t\t a\n\t\t c\n\t\t b\nSAMPLE:  1\n\t features: \n\t\t a\n\t\t c\n\t\t b\nSAMPLE:  2\n\t features: \n\t\t a\n\t\t c\n\t\t b\nSAMPLE:  3\n\t features: \n\t\t a\n\t\t c\n\t\t b\nSAMPLE:  4\n\t features: \n\t\t a\n\t\t c\n\t\t b\nSAMPLE:  5\n\t features: \n\t\t a\n\t\t c\n\t\t b\nSAMPLE:  6\n\t features: \n\t\t a\n\t\t c\n\t\t b\nSAMPLE:  7\n\t features: \n\t\t a\n\t\t c\n\t\t b\nSAMPLE:  8\n\t features: \n\t\t a\n\t\t c\n\t\t b\nSAMPLE:  9\n\t features: \n\t\t a\n\t\t c\n\t\t b\n"
    },
    {
     "output_type": "execute_result",
     "data": {
      "text/plain": "         score_final\nfeature             \nb                 16\nc                 14\na                  0",
      "text/html": "<div>\n<style scoped>\n    .dataframe tbody tr th:only-of-type {\n        vertical-align: middle;\n    }\n\n    .dataframe tbody tr th {\n        vertical-align: top;\n    }\n\n    .dataframe thead th {\n        text-align: right;\n    }\n</style>\n<table border=\"1\" class=\"dataframe\">\n  <thead>\n    <tr style=\"text-align: right;\">\n      <th></th>\n      <th>score_final</th>\n    </tr>\n    <tr>\n      <th>feature</th>\n      <th></th>\n    </tr>\n  </thead>\n  <tbody>\n    <tr>\n      <th>b</th>\n      <td>16</td>\n    </tr>\n    <tr>\n      <th>c</th>\n      <td>14</td>\n    </tr>\n    <tr>\n      <th>a</th>\n      <td>0</td>\n    </tr>\n  </tbody>\n</table>\n</div>"
     },
     "metadata": {},
     "execution_count": 2
    }
   ],
   "source": [
    "import pandas as pd\n",
    "from FeatureRanker import SRANK\n",
    "toydata = pd.DataFrame({\"a\" : [1.2, 1.4, 1.5, 1.7, 1.9, 1, 2], \n",
    "                        \"b\" : [\"a\", \"b\", \"c\", \"a\", \"b\", \"c\", \"c\"], \n",
    "                        \"c\" : [1, 2, 1, 1, 1, 3, 4]})\n",
    "ranker = SRANK()\n",
    "boi = ranker.apply(toydata, \n",
    "                   vars_type = \"mixed\", \n",
    "                   discrete_var_list = [\"b\", \"c\"], \n",
    "                   clean_bool = True, \n",
    "                   rescale_bool = True, \n",
    "                   N_SAMPLE = 10, \n",
    "                   SAMPLE_SIZE = 5)\n",
    "boi.info"
   ]
  }
 ],
 "metadata": {
  "language_info": {
   "codemirror_mode": {
    "name": "ipython",
    "version": 3
   },
   "file_extension": ".py",
   "mimetype": "text/x-python",
   "name": "python",
   "nbconvert_exporter": "python",
   "pygments_lexer": "ipython3",
   "version": 3
  },
  "orig_nbformat": 2,
  "kernelspec": {
   "name": "python_defaultSpec_1594835374758",
   "display_name": "Python 3.7.6 64-bit ('base': conda)"
  }
 },
 "nbformat": 4,
 "nbformat_minor": 2
}