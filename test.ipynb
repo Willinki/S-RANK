{
 "cells": [
  {
   "cell_type": "code",
   "execution_count": 43,
   "metadata": {
    "tags": []
   },
   "outputs": [
    {
     "output_type": "execute_result",
     "data": {
      "text/plain": "['d']"
     },
     "metadata": {},
     "execution_count": 43
    }
   ],
   "source": [
    "import pandas as pd\n",
    "from sklearn.preprocessing import KBinsDiscretizer\n",
    "a = [1, 2, 3, 4, 5]\n",
    "a = pd.DataFrame({\"a\" : [1.1, 2.3, 3.4, 4.5], \"b\" : [1, 2, 3, 4], \"c\" : [1, 2, 3, 4], \"d\" : [\"a\", \"b\", \"c\", \"e\"]})\n",
    "lista = [x for x in a.columns if a[x].dtype == \"object\"]\n",
    "lista"
   ]
  }
 ],
 "metadata": {
  "language_info": {
   "codemirror_mode": {
    "name": "ipython",
    "version": 3
   },
   "file_extension": ".py",
   "mimetype": "text/x-python",
   "name": "python",
   "nbconvert_exporter": "python",
   "pygments_lexer": "ipython3",
   "version": 3
  },
  "orig_nbformat": 2,
  "kernelspec": {
   "name": "python_defaultSpec_1594806271522",
   "display_name": "Python 3.7.6 64-bit ('base': conda)"
  }
 },
 "nbformat": 4,
 "nbformat_minor": 2
}